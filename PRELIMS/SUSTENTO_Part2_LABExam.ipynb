{
  "nbformat": 4,
  "nbformat_minor": 0,
  "metadata": {
    "colab": {
      "provenance": [],
      "collapsed_sections": [],
      "authorship_tag": "ABX9TyPxAzWzYNPlN/nqvTihuTqQ",
      "include_colab_link": true
    },
    "kernelspec": {
      "name": "python3",
      "display_name": "Python 3"
    },
    "language_info": {
      "name": "python"
    }
  },
  "cells": [
    {
      "cell_type": "markdown",
      "metadata": {
        "id": "view-in-github",
        "colab_type": "text"
      },
      "source": [
        "<a href=\"https://colab.research.google.com/github/Moykerino/AIDA/blob/main/PRELIMS/SUSTENTO_Part2_LABExam.ipynb\" target=\"_parent\"><img src=\"https://colab.research.google.com/assets/colab-badge.svg\" alt=\"Open In Colab\"/></a>"
      ]
    },
    {
      "cell_type": "markdown",
      "source": [
        "Submitted by: \\\n",
        "© Sustento, Myke Alvin E."
      ],
      "metadata": {
        "id": "BBNm4jyas49g"
      }
    },
    {
      "cell_type": "code",
      "source": [
        "import numpy as np"
      ],
      "metadata": {
        "id": "aXh7TCtptQNA"
      },
      "execution_count": null,
      "outputs": []
    },
    {
      "cell_type": "markdown",
      "source": [
        "####A. Identify wheter Matrix A is linearly dependent or independent. Provide necessary Mathematical proof of your claims\n",
        "\\begin{align}\n",
        "A = \\frac{1 \\ }{\\sqrt2} e^\\theta{^t} \\begin{pmatrix}\n",
        "1 & -2 & -1\\\\\n",
        "-0.5 & -1 & 0.5\\\\\n",
        "1 & -2 & -1 \n",
        "\\end{pmatrix}\n",
        "\\end{align}"
      ],
      "metadata": {
        "id": "Jv3CRKJSs0xf"
      }
    },
    {
      "cell_type": "code",
      "source": [
        "A = np.array([\n",
        "    [1, -2, -1],\n",
        "    [-0.5, 1, 0.5],\n",
        "    [1, -2, -1]\n",
        "    ])\n",
        "A"
      ],
      "metadata": {
        "colab": {
          "base_uri": "https://localhost:8080/"
        },
        "id": "t8sxN03utK5X",
        "outputId": "53b4313c-efb3-47fa-c7fb-8065557ea888"
      },
      "execution_count": null,
      "outputs": [
        {
          "output_type": "execute_result",
          "data": {
            "text/plain": [
              "array([[ 1. , -2. , -1. ],\n",
              "       [-0.5,  1. ,  0.5],\n",
              "       [ 1. , -2. , -1. ]])"
            ]
          },
          "metadata": {},
          "execution_count": 2
        }
      ]
    },
    {
      "cell_type": "markdown",
      "source": [
        "$$det(A) ≠ 0$$\n",
        "$$and$$\n",
        "$$AA^{-1} = I$$"
      ],
      "metadata": {
        "id": "pCo7Ifa4v3qs"
      }
    },
    {
      "cell_type": "code",
      "source": [
        "if np.linalg.det(A) != 0: # if determinant is not equal to 0\n",
        "    print(\"Matrix is Linearly Independent \\nIdentity Matrix:\\n \" + str(np.round(A @ np.linalg.inv(A)))) # then matrix is invertible + AA^-1 - identity matrix\n",
        "else:\n",
        "    print(\"Matrix is Linearly Dependent\")"
      ],
      "metadata": {
        "colab": {
          "base_uri": "https://localhost:8080/"
        },
        "id": "jfQg1b_gtbXk",
        "outputId": "127bdb7b-68e3-4370-a843-2307608a8b32"
      },
      "execution_count": null,
      "outputs": [
        {
          "output_type": "stream",
          "name": "stdout",
          "text": [
            "Matrix is Linearly Dependent\n"
          ]
        }
      ]
    },
    {
      "cell_type": "code",
      "source": [
        "for i in range(A.shape[0]):\n",
        "    for j in range(A.shape[0]):\n",
        "        if i != j:\n",
        "            inner_product = np.inner(\n",
        "                A[:,i],\n",
        "                A[:,j]\n",
        "            )\n",
        "            norm_i = np.linalg.norm(A[:,i])\n",
        "            norm_j = np.linalg.norm(A[:,j])\n",
        "\n",
        "            print('1st Matrix column: ', A[:,i])\n",
        "            print('2nd Matrix column: ', A[:,j])\n",
        "            print('Inner Prodcut: ', inner_product)\n",
        "            print('1st Matrix column result: ', norm_i)\n",
        "            print('2nd Matrix column result: ', norm_j)\n",
        "            if np.abs(inner_product - norm_j * norm_i) < 1E-5:\n",
        "                print('Linearly Dependent')\n",
        "            else:\n",
        "                print('Linearly Independent')"
      ],
      "metadata": {
        "colab": {
          "base_uri": "https://localhost:8080/"
        },
        "id": "u_o80ub0tbSU",
        "outputId": "af32b412-a170-4616-aaee-0ddf326c543a"
      },
      "execution_count": null,
      "outputs": [
        {
          "output_type": "stream",
          "name": "stdout",
          "text": [
            "1st Matrix column:  [ 1.  -0.5  1. ]\n",
            "2nd Matrix column:  [-2.  1. -2.]\n",
            "Inner Prodcut:  -4.5\n",
            "1st Matrix column result:  1.5\n",
            "2nd Matrix column result:  3.0\n",
            "Linearly Independent\n",
            "1st Matrix column:  [ 1.  -0.5  1. ]\n",
            "2nd Matrix column:  [-1.   0.5 -1. ]\n",
            "Inner Prodcut:  -2.25\n",
            "1st Matrix column result:  1.5\n",
            "2nd Matrix column result:  1.5\n",
            "Linearly Independent\n",
            "1st Matrix column:  [-2.  1. -2.]\n",
            "2nd Matrix column:  [ 1.  -0.5  1. ]\n",
            "Inner Prodcut:  -4.5\n",
            "1st Matrix column result:  3.0\n",
            "2nd Matrix column result:  1.5\n",
            "Linearly Independent\n",
            "1st Matrix column:  [-2.  1. -2.]\n",
            "2nd Matrix column:  [-1.   0.5 -1. ]\n",
            "Inner Prodcut:  4.5\n",
            "1st Matrix column result:  3.0\n",
            "2nd Matrix column result:  1.5\n",
            "Linearly Dependent\n",
            "1st Matrix column:  [-1.   0.5 -1. ]\n",
            "2nd Matrix column:  [ 1.  -0.5  1. ]\n",
            "Inner Prodcut:  -2.25\n",
            "1st Matrix column result:  1.5\n",
            "2nd Matrix column result:  1.5\n",
            "Linearly Independent\n",
            "1st Matrix column:  [-1.   0.5 -1. ]\n",
            "2nd Matrix column:  [-2.  1. -2.]\n",
            "Inner Prodcut:  4.5\n",
            "1st Matrix column result:  1.5\n",
            "2nd Matrix column result:  3.0\n",
            "Linearly Dependent\n"
          ]
        }
      ]
    },
    {
      "cell_type": "markdown",
      "source": [
        "####Identify whether the two vectors A and B are similar, opposite, or orthogonal using the cosine similarity. You must provide the following in your solution:\n",
        "\n",
        "1) The inner product of A and B;\n",
        "\n",
        "2) The norm of A;\n",
        "\n",
        "3) The norm of B;\n",
        "\n",
        "4) The angle between A and B and represented by theta.\n",
        "\\begin{align}\n",
        "a = \\begin{pmatrix}\n",
        "13, & 20\n",
        "\\end{pmatrix}\n",
        "\\end{align}\n",
        "\n",
        "\n",
        "\\begin{align}\n",
        "b = \\begin{pmatrix}\n",
        "-2, & 17\n",
        "\\end{pmatrix}\n",
        "\\end{align}"
      ],
      "metadata": {
        "id": "QTWw6Hshs0uN"
      }
    },
    {
      "cell_type": "code",
      "source": [
        "# a b array\n",
        "a = np.array([13,20])\n",
        "b = np.array([-2,17])"
      ],
      "metadata": {
        "id": "JsRWKnZds4CW"
      },
      "execution_count": null,
      "outputs": []
    },
    {
      "cell_type": "code",
      "source": [
        "# innerproduct of a and b\n",
        "innerproduct = a @ b"
      ],
      "metadata": {
        "id": "jTF115FawPgV"
      },
      "execution_count": null,
      "outputs": []
    },
    {
      "cell_type": "code",
      "source": [
        "# norm of a\n",
        "norm_a = np.linalg.norm(a)"
      ],
      "metadata": {
        "id": "gmlSJo6fwVRJ"
      },
      "execution_count": null,
      "outputs": []
    },
    {
      "cell_type": "code",
      "source": [
        "# norm of b\n",
        "norm_b = np.linalg.norm(b)"
      ],
      "metadata": {
        "id": "vAl0fvDhwfXY"
      },
      "execution_count": null,
      "outputs": []
    },
    {
      "cell_type": "code",
      "source": [
        "# norm of a\n",
        "innerproduct = a @ b # numerator\n",
        "denom = norm_a * norm_b\n",
        "theta = np.arccos(innerproduct/denom)"
      ],
      "metadata": {
        "id": "AOJ9XxIQwtfa"
      },
      "execution_count": null,
      "outputs": []
    },
    {
      "cell_type": "code",
      "source": [
        "theta"
      ],
      "metadata": {
        "colab": {
          "base_uri": "https://localhost:8080/"
        },
        "id": "xXyMCofzw54g",
        "outputId": "5ca74186-f549-405f-c95e-35faf4361433"
      },
      "execution_count": null,
      "outputs": [
        {
          "output_type": "execute_result",
          "data": {
            "text/plain": [
              "0.693483965158048"
            ]
          },
          "metadata": {},
          "execution_count": 10
        }
      ]
    }
  ]
}