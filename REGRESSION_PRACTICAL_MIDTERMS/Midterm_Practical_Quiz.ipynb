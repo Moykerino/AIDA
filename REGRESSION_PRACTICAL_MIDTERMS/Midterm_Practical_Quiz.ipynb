{
  "nbformat": 4,
  "nbformat_minor": 0,
  "metadata": {
    "colab": {
      "provenance": [],
      "collapsed_sections": [],
      "authorship_tag": "ABX9TyN+C/Ycia+KfZCte/Ulwa1h",
      "include_colab_link": true
    },
    "kernelspec": {
      "name": "python3",
      "display_name": "Python 3"
    },
    "language_info": {
      "name": "python"
    }
  },
  "cells": [
    {
      "cell_type": "markdown",
      "metadata": {
        "id": "view-in-github",
        "colab_type": "text"
      },
      "source": [
        "<a href=\"https://colab.research.google.com/github/Moykerino/AIDA/blob/main/REGRESSION_PRACTICAL_MIDTERMS/Midterm_Practical_Quiz.ipynb\" target=\"_parent\"><img src=\"https://colab.research.google.com/assets/colab-badge.svg\" alt=\"Open In Colab\"/></a>"
      ]
    },
    {
      "cell_type": "markdown",
      "source": [
        "Sustento, Myke Alvin E.\n",
        "\n",
        "201911709"
      ],
      "metadata": {
        "id": "B0_GBHO9aqQU"
      }
    },
    {
      "cell_type": "code",
      "source": [
        "import pandas as pd\n",
        "import numpy as np\n",
        "import seaborn as sns\n",
        "import matplotlib.pyplot as plt\n",
        "from scipy import stats\n",
        "from sklearn.linear_model import LinearRegression"
      ],
      "metadata": {
        "id": "R_wiP628Sype"
      },
      "execution_count": 1,
      "outputs": []
    },
    {
      "cell_type": "markdown",
      "source": [
        "#Getting and Reading the Dataset"
      ],
      "metadata": {
        "id": "ndXPOuSGa30j"
      }
    },
    {
      "cell_type": "code",
      "execution_count": 2,
      "metadata": {
        "id": "ZMDT6AqVRRvJ",
        "colab": {
          "base_uri": "https://localhost:8080/"
        },
        "outputId": "24968a31-965d-49f1-cf60-7006df4984f4"
      },
      "outputs": [
        {
          "output_type": "stream",
          "name": "stderr",
          "text": [
            "/usr/local/lib/python3.7/dist-packages/openpyxl/worksheet/_reader.py:312: UserWarning: Unknown extension is not supported and will be removed\n",
            "  warn(msg)\n"
          ]
        }
      ],
      "source": [
        "GSFinances = \"https://github.com/Moykerino/AIDA/blob/main/REGRESSION_PRACTICAL_MIDTERMS/Global%20Sport%20Finances.xlsx?raw=true\" # Link of dataset\n",
        "TopTeamsPayrollList = 0 # Sheet1\n",
        "TopAthleteSalaries = 1 # Sheet2\n",
        "\n",
        "TeamPayroll_df = pd.read_excel(GSFinances, sheet_name = TopTeamsPayrollList)\n",
        "AthleteSalary_df = pd.read_excel(GSFinances, sheet_name = TopAthleteSalaries)"
      ]
    },
    {
      "cell_type": "code",
      "source": [
        "TeamPayroll_df"
      ],
      "metadata": {
        "id": "FkpjlW_GlMU8",
        "colab": {
          "base_uri": "https://localhost:8080/",
          "height": 502
        },
        "outputId": "1c76359c-a7dc-4c2c-96d3-82cf6fbc397c"
      },
      "execution_count": 3,
      "outputs": [
        {
          "output_type": "execute_result",
          "data": {
            "text/plain": [
              "     Rank Last Year's Rank                       Team, League  \\\n",
              "0       1                1               Manchester City, EPL   \n",
              "1       2                5              New York Yankees, MLB   \n",
              "2       3                2           Los Angeles Dodgers, MLB   \n",
              "3       4                3               Real Madrid, La Liga   \n",
              "4       5                4                 Barcelona, La Liga   \n",
              "..    ...              ...                                ...   \n",
              "289   290                )            Hangzhou Greentown, CSL   \n",
              "290   291              278  Inverness Caledonian Thistle, SPL   \n",
              "291   292                )                        Dundee, SPL   \n",
              "292   293                )                   Ross County, SPL   \n",
              "293   294                )               Shanghai Dongya, CSL   \n",
              "\n",
              "     Average Annual pay per player  % change from last year's survey  \\\n",
              "0                          8109912                               0.6   \n",
              "1                          8031948                              12.3   \n",
              "2                          7778336                               4.1   \n",
              "3                          7586438                               3.7   \n",
              "4                          7446562                               2.4   \n",
              "..                             ...                               ...   \n",
              "289                          83529                               NaN   \n",
              "290                          80847                               6.0   \n",
              "291                          71572                               NaN   \n",
              "292                          59114                               NaN   \n",
              "293                          42353                               NaN   \n",
              "\n",
              "     Total Payroll  Rank of Total Payroll  Average player 5 year earnings  \\\n",
              "0        202747812                      3                      31660772.0   \n",
              "1        208830659                      2                      35789052.0   \n",
              "2        241128402                      1                      26226200.0   \n",
              "3        189660944                      5                      36995660.0   \n",
              "4        193610600                      4                      37975600.0   \n",
              "..             ...                    ...                             ...   \n",
              "289        2840000                    290                             NaN   \n",
              "290        2021164                    291                        381264.0   \n",
              "291        1789307                    292                             NaN   \n",
              "292        1477850                    293                             NaN   \n",
              "293        1440000                    294                             NaN   \n",
              "\n",
              "     % change over last 5 years  \n",
              "0                         265.0  \n",
              "1                           5.0  \n",
              "2                          79.0  \n",
              "3                           9.0  \n",
              "4                          12.0  \n",
              "..                          ...  \n",
              "289                         NaN  \n",
              "290                        23.0  \n",
              "291                         NaN  \n",
              "292                         NaN  \n",
              "293                         NaN  \n",
              "\n",
              "[294 rows x 9 columns]"
            ],
            "text/html": [
              "\n",
              "  <div id=\"df-8e9ef977-bfdb-4a04-837c-3700995fd3cc\">\n",
              "    <div class=\"colab-df-container\">\n",
              "      <div>\n",
              "<style scoped>\n",
              "    .dataframe tbody tr th:only-of-type {\n",
              "        vertical-align: middle;\n",
              "    }\n",
              "\n",
              "    .dataframe tbody tr th {\n",
              "        vertical-align: top;\n",
              "    }\n",
              "\n",
              "    .dataframe thead th {\n",
              "        text-align: right;\n",
              "    }\n",
              "</style>\n",
              "<table border=\"1\" class=\"dataframe\">\n",
              "  <thead>\n",
              "    <tr style=\"text-align: right;\">\n",
              "      <th></th>\n",
              "      <th>Rank</th>\n",
              "      <th>Last Year's Rank</th>\n",
              "      <th>Team, League</th>\n",
              "      <th>Average Annual pay per player</th>\n",
              "      <th>% change from last year's survey</th>\n",
              "      <th>Total Payroll</th>\n",
              "      <th>Rank of Total Payroll</th>\n",
              "      <th>Average player 5 year earnings</th>\n",
              "      <th>% change over last 5 years</th>\n",
              "    </tr>\n",
              "  </thead>\n",
              "  <tbody>\n",
              "    <tr>\n",
              "      <th>0</th>\n",
              "      <td>1</td>\n",
              "      <td>1</td>\n",
              "      <td>Manchester City, EPL</td>\n",
              "      <td>8109912</td>\n",
              "      <td>0.6</td>\n",
              "      <td>202747812</td>\n",
              "      <td>3</td>\n",
              "      <td>31660772.0</td>\n",
              "      <td>265.0</td>\n",
              "    </tr>\n",
              "    <tr>\n",
              "      <th>1</th>\n",
              "      <td>2</td>\n",
              "      <td>5</td>\n",
              "      <td>New York Yankees, MLB</td>\n",
              "      <td>8031948</td>\n",
              "      <td>12.3</td>\n",
              "      <td>208830659</td>\n",
              "      <td>2</td>\n",
              "      <td>35789052.0</td>\n",
              "      <td>5.0</td>\n",
              "    </tr>\n",
              "    <tr>\n",
              "      <th>2</th>\n",
              "      <td>3</td>\n",
              "      <td>2</td>\n",
              "      <td>Los Angeles Dodgers, MLB</td>\n",
              "      <td>7778336</td>\n",
              "      <td>4.1</td>\n",
              "      <td>241128402</td>\n",
              "      <td>1</td>\n",
              "      <td>26226200.0</td>\n",
              "      <td>79.0</td>\n",
              "    </tr>\n",
              "    <tr>\n",
              "      <th>3</th>\n",
              "      <td>4</td>\n",
              "      <td>3</td>\n",
              "      <td>Real Madrid, La Liga</td>\n",
              "      <td>7586438</td>\n",
              "      <td>3.7</td>\n",
              "      <td>189660944</td>\n",
              "      <td>5</td>\n",
              "      <td>36995660.0</td>\n",
              "      <td>9.0</td>\n",
              "    </tr>\n",
              "    <tr>\n",
              "      <th>4</th>\n",
              "      <td>5</td>\n",
              "      <td>4</td>\n",
              "      <td>Barcelona, La Liga</td>\n",
              "      <td>7446562</td>\n",
              "      <td>2.4</td>\n",
              "      <td>193610600</td>\n",
              "      <td>4</td>\n",
              "      <td>37975600.0</td>\n",
              "      <td>12.0</td>\n",
              "    </tr>\n",
              "    <tr>\n",
              "      <th>...</th>\n",
              "      <td>...</td>\n",
              "      <td>...</td>\n",
              "      <td>...</td>\n",
              "      <td>...</td>\n",
              "      <td>...</td>\n",
              "      <td>...</td>\n",
              "      <td>...</td>\n",
              "      <td>...</td>\n",
              "      <td>...</td>\n",
              "    </tr>\n",
              "    <tr>\n",
              "      <th>289</th>\n",
              "      <td>290</td>\n",
              "      <td>)</td>\n",
              "      <td>Hangzhou Greentown, CSL</td>\n",
              "      <td>83529</td>\n",
              "      <td>NaN</td>\n",
              "      <td>2840000</td>\n",
              "      <td>290</td>\n",
              "      <td>NaN</td>\n",
              "      <td>NaN</td>\n",
              "    </tr>\n",
              "    <tr>\n",
              "      <th>290</th>\n",
              "      <td>291</td>\n",
              "      <td>278</td>\n",
              "      <td>Inverness Caledonian Thistle, SPL</td>\n",
              "      <td>80847</td>\n",
              "      <td>6.0</td>\n",
              "      <td>2021164</td>\n",
              "      <td>291</td>\n",
              "      <td>381264.0</td>\n",
              "      <td>23.0</td>\n",
              "    </tr>\n",
              "    <tr>\n",
              "      <th>291</th>\n",
              "      <td>292</td>\n",
              "      <td>)</td>\n",
              "      <td>Dundee, SPL</td>\n",
              "      <td>71572</td>\n",
              "      <td>NaN</td>\n",
              "      <td>1789307</td>\n",
              "      <td>292</td>\n",
              "      <td>NaN</td>\n",
              "      <td>NaN</td>\n",
              "    </tr>\n",
              "    <tr>\n",
              "      <th>292</th>\n",
              "      <td>293</td>\n",
              "      <td>)</td>\n",
              "      <td>Ross County, SPL</td>\n",
              "      <td>59114</td>\n",
              "      <td>NaN</td>\n",
              "      <td>1477850</td>\n",
              "      <td>293</td>\n",
              "      <td>NaN</td>\n",
              "      <td>NaN</td>\n",
              "    </tr>\n",
              "    <tr>\n",
              "      <th>293</th>\n",
              "      <td>294</td>\n",
              "      <td>)</td>\n",
              "      <td>Shanghai Dongya, CSL</td>\n",
              "      <td>42353</td>\n",
              "      <td>NaN</td>\n",
              "      <td>1440000</td>\n",
              "      <td>294</td>\n",
              "      <td>NaN</td>\n",
              "      <td>NaN</td>\n",
              "    </tr>\n",
              "  </tbody>\n",
              "</table>\n",
              "<p>294 rows × 9 columns</p>\n",
              "</div>\n",
              "      <button class=\"colab-df-convert\" onclick=\"convertToInteractive('df-8e9ef977-bfdb-4a04-837c-3700995fd3cc')\"\n",
              "              title=\"Convert this dataframe to an interactive table.\"\n",
              "              style=\"display:none;\">\n",
              "        \n",
              "  <svg xmlns=\"http://www.w3.org/2000/svg\" height=\"24px\"viewBox=\"0 0 24 24\"\n",
              "       width=\"24px\">\n",
              "    <path d=\"M0 0h24v24H0V0z\" fill=\"none\"/>\n",
              "    <path d=\"M18.56 5.44l.94 2.06.94-2.06 2.06-.94-2.06-.94-.94-2.06-.94 2.06-2.06.94zm-11 1L8.5 8.5l.94-2.06 2.06-.94-2.06-.94L8.5 2.5l-.94 2.06-2.06.94zm10 10l.94 2.06.94-2.06 2.06-.94-2.06-.94-.94-2.06-.94 2.06-2.06.94z\"/><path d=\"M17.41 7.96l-1.37-1.37c-.4-.4-.92-.59-1.43-.59-.52 0-1.04.2-1.43.59L10.3 9.45l-7.72 7.72c-.78.78-.78 2.05 0 2.83L4 21.41c.39.39.9.59 1.41.59.51 0 1.02-.2 1.41-.59l7.78-7.78 2.81-2.81c.8-.78.8-2.07 0-2.86zM5.41 20L4 18.59l7.72-7.72 1.47 1.35L5.41 20z\"/>\n",
              "  </svg>\n",
              "      </button>\n",
              "      \n",
              "  <style>\n",
              "    .colab-df-container {\n",
              "      display:flex;\n",
              "      flex-wrap:wrap;\n",
              "      gap: 12px;\n",
              "    }\n",
              "\n",
              "    .colab-df-convert {\n",
              "      background-color: #E8F0FE;\n",
              "      border: none;\n",
              "      border-radius: 50%;\n",
              "      cursor: pointer;\n",
              "      display: none;\n",
              "      fill: #1967D2;\n",
              "      height: 32px;\n",
              "      padding: 0 0 0 0;\n",
              "      width: 32px;\n",
              "    }\n",
              "\n",
              "    .colab-df-convert:hover {\n",
              "      background-color: #E2EBFA;\n",
              "      box-shadow: 0px 1px 2px rgba(60, 64, 67, 0.3), 0px 1px 3px 1px rgba(60, 64, 67, 0.15);\n",
              "      fill: #174EA6;\n",
              "    }\n",
              "\n",
              "    [theme=dark] .colab-df-convert {\n",
              "      background-color: #3B4455;\n",
              "      fill: #D2E3FC;\n",
              "    }\n",
              "\n",
              "    [theme=dark] .colab-df-convert:hover {\n",
              "      background-color: #434B5C;\n",
              "      box-shadow: 0px 1px 3px 1px rgba(0, 0, 0, 0.15);\n",
              "      filter: drop-shadow(0px 1px 2px rgba(0, 0, 0, 0.3));\n",
              "      fill: #FFFFFF;\n",
              "    }\n",
              "  </style>\n",
              "\n",
              "      <script>\n",
              "        const buttonEl =\n",
              "          document.querySelector('#df-8e9ef977-bfdb-4a04-837c-3700995fd3cc button.colab-df-convert');\n",
              "        buttonEl.style.display =\n",
              "          google.colab.kernel.accessAllowed ? 'block' : 'none';\n",
              "\n",
              "        async function convertToInteractive(key) {\n",
              "          const element = document.querySelector('#df-8e9ef977-bfdb-4a04-837c-3700995fd3cc');\n",
              "          const dataTable =\n",
              "            await google.colab.kernel.invokeFunction('convertToInteractive',\n",
              "                                                     [key], {});\n",
              "          if (!dataTable) return;\n",
              "\n",
              "          const docLinkHtml = 'Like what you see? Visit the ' +\n",
              "            '<a target=\"_blank\" href=https://colab.research.google.com/notebooks/data_table.ipynb>data table notebook</a>'\n",
              "            + ' to learn more about interactive tables.';\n",
              "          element.innerHTML = '';\n",
              "          dataTable['output_type'] = 'display_data';\n",
              "          await google.colab.output.renderOutput(dataTable, element);\n",
              "          const docLink = document.createElement('div');\n",
              "          docLink.innerHTML = docLinkHtml;\n",
              "          element.appendChild(docLink);\n",
              "        }\n",
              "      </script>\n",
              "    </div>\n",
              "  </div>\n",
              "  "
            ]
          },
          "metadata": {},
          "execution_count": 3
        }
      ]
    },
    {
      "cell_type": "code",
      "source": [
        "AthleteSalary_df"
      ],
      "metadata": {
        "id": "iLuKOuUVlMyc",
        "colab": {
          "base_uri": "https://localhost:8080/",
          "height": 424
        },
        "outputId": "aac55266-a766-4ae6-81cb-95a7d86ab272"
      },
      "execution_count": 4,
      "outputs": [
        {
          "output_type": "execute_result",
          "data": {
            "text/plain": [
              "              Athlete 2014 Pay Salary/Winnings Endorsements       Sport\n",
              "0    Floyd Mayweather   $105 M          $105 M            0      Boxing\n",
              "1   Cristiano Ronaldo    $80 M           $52 M        $28 M      Soccer\n",
              "2        LeBron James  $72.3 M         $19.3 M        $53 M  Basketball\n",
              "3        Lionel Messi  $64.7 M         $41.7 M        $23 M      Soccer\n",
              "4         Kobe Bryant  $61.5 M         $30.5 M        $31 M  Basketball\n",
              "..                ...      ...             ...          ...         ...\n",
              "95      Terrell Suggs  $17.6 M         $17.4 M       $200 K    Football\n",
              "96   Brandon Marshall  $17.5 M         $16.8 M       $0.7 M    Football\n",
              "97       Jayson Werth  $17.5 M         $17.3 M       $200 K    Baseball\n",
              "98      Matt Holliday  $17.4 M         $17.2 M       $200 K    Baseball\n",
              "99        Luis Suarez  $17.3 M         $13.3 M         $4 M      Soccer\n",
              "\n",
              "[100 rows x 5 columns]"
            ],
            "text/html": [
              "\n",
              "  <div id=\"df-c5692fda-20d6-4711-9735-0ab9766759e8\">\n",
              "    <div class=\"colab-df-container\">\n",
              "      <div>\n",
              "<style scoped>\n",
              "    .dataframe tbody tr th:only-of-type {\n",
              "        vertical-align: middle;\n",
              "    }\n",
              "\n",
              "    .dataframe tbody tr th {\n",
              "        vertical-align: top;\n",
              "    }\n",
              "\n",
              "    .dataframe thead th {\n",
              "        text-align: right;\n",
              "    }\n",
              "</style>\n",
              "<table border=\"1\" class=\"dataframe\">\n",
              "  <thead>\n",
              "    <tr style=\"text-align: right;\">\n",
              "      <th></th>\n",
              "      <th>Athlete</th>\n",
              "      <th>2014 Pay</th>\n",
              "      <th>Salary/Winnings</th>\n",
              "      <th>Endorsements</th>\n",
              "      <th>Sport</th>\n",
              "    </tr>\n",
              "  </thead>\n",
              "  <tbody>\n",
              "    <tr>\n",
              "      <th>0</th>\n",
              "      <td>Floyd Mayweather</td>\n",
              "      <td>$105 M</td>\n",
              "      <td>$105 M</td>\n",
              "      <td>0</td>\n",
              "      <td>Boxing</td>\n",
              "    </tr>\n",
              "    <tr>\n",
              "      <th>1</th>\n",
              "      <td>Cristiano Ronaldo</td>\n",
              "      <td>$80 M</td>\n",
              "      <td>$52 M</td>\n",
              "      <td>$28 M</td>\n",
              "      <td>Soccer</td>\n",
              "    </tr>\n",
              "    <tr>\n",
              "      <th>2</th>\n",
              "      <td>LeBron James</td>\n",
              "      <td>$72.3 M</td>\n",
              "      <td>$19.3 M</td>\n",
              "      <td>$53 M</td>\n",
              "      <td>Basketball</td>\n",
              "    </tr>\n",
              "    <tr>\n",
              "      <th>3</th>\n",
              "      <td>Lionel Messi</td>\n",
              "      <td>$64.7 M</td>\n",
              "      <td>$41.7 M</td>\n",
              "      <td>$23 M</td>\n",
              "      <td>Soccer</td>\n",
              "    </tr>\n",
              "    <tr>\n",
              "      <th>4</th>\n",
              "      <td>Kobe Bryant</td>\n",
              "      <td>$61.5 M</td>\n",
              "      <td>$30.5 M</td>\n",
              "      <td>$31 M</td>\n",
              "      <td>Basketball</td>\n",
              "    </tr>\n",
              "    <tr>\n",
              "      <th>...</th>\n",
              "      <td>...</td>\n",
              "      <td>...</td>\n",
              "      <td>...</td>\n",
              "      <td>...</td>\n",
              "      <td>...</td>\n",
              "    </tr>\n",
              "    <tr>\n",
              "      <th>95</th>\n",
              "      <td>Terrell Suggs</td>\n",
              "      <td>$17.6 M</td>\n",
              "      <td>$17.4 M</td>\n",
              "      <td>$200 K</td>\n",
              "      <td>Football</td>\n",
              "    </tr>\n",
              "    <tr>\n",
              "      <th>96</th>\n",
              "      <td>Brandon Marshall</td>\n",
              "      <td>$17.5 M</td>\n",
              "      <td>$16.8 M</td>\n",
              "      <td>$0.7 M</td>\n",
              "      <td>Football</td>\n",
              "    </tr>\n",
              "    <tr>\n",
              "      <th>97</th>\n",
              "      <td>Jayson Werth</td>\n",
              "      <td>$17.5 M</td>\n",
              "      <td>$17.3 M</td>\n",
              "      <td>$200 K</td>\n",
              "      <td>Baseball</td>\n",
              "    </tr>\n",
              "    <tr>\n",
              "      <th>98</th>\n",
              "      <td>Matt Holliday</td>\n",
              "      <td>$17.4 M</td>\n",
              "      <td>$17.2 M</td>\n",
              "      <td>$200 K</td>\n",
              "      <td>Baseball</td>\n",
              "    </tr>\n",
              "    <tr>\n",
              "      <th>99</th>\n",
              "      <td>Luis Suarez</td>\n",
              "      <td>$17.3 M</td>\n",
              "      <td>$13.3 M</td>\n",
              "      <td>$4 M</td>\n",
              "      <td>Soccer</td>\n",
              "    </tr>\n",
              "  </tbody>\n",
              "</table>\n",
              "<p>100 rows × 5 columns</p>\n",
              "</div>\n",
              "      <button class=\"colab-df-convert\" onclick=\"convertToInteractive('df-c5692fda-20d6-4711-9735-0ab9766759e8')\"\n",
              "              title=\"Convert this dataframe to an interactive table.\"\n",
              "              style=\"display:none;\">\n",
              "        \n",
              "  <svg xmlns=\"http://www.w3.org/2000/svg\" height=\"24px\"viewBox=\"0 0 24 24\"\n",
              "       width=\"24px\">\n",
              "    <path d=\"M0 0h24v24H0V0z\" fill=\"none\"/>\n",
              "    <path d=\"M18.56 5.44l.94 2.06.94-2.06 2.06-.94-2.06-.94-.94-2.06-.94 2.06-2.06.94zm-11 1L8.5 8.5l.94-2.06 2.06-.94-2.06-.94L8.5 2.5l-.94 2.06-2.06.94zm10 10l.94 2.06.94-2.06 2.06-.94-2.06-.94-.94-2.06-.94 2.06-2.06.94z\"/><path d=\"M17.41 7.96l-1.37-1.37c-.4-.4-.92-.59-1.43-.59-.52 0-1.04.2-1.43.59L10.3 9.45l-7.72 7.72c-.78.78-.78 2.05 0 2.83L4 21.41c.39.39.9.59 1.41.59.51 0 1.02-.2 1.41-.59l7.78-7.78 2.81-2.81c.8-.78.8-2.07 0-2.86zM5.41 20L4 18.59l7.72-7.72 1.47 1.35L5.41 20z\"/>\n",
              "  </svg>\n",
              "      </button>\n",
              "      \n",
              "  <style>\n",
              "    .colab-df-container {\n",
              "      display:flex;\n",
              "      flex-wrap:wrap;\n",
              "      gap: 12px;\n",
              "    }\n",
              "\n",
              "    .colab-df-convert {\n",
              "      background-color: #E8F0FE;\n",
              "      border: none;\n",
              "      border-radius: 50%;\n",
              "      cursor: pointer;\n",
              "      display: none;\n",
              "      fill: #1967D2;\n",
              "      height: 32px;\n",
              "      padding: 0 0 0 0;\n",
              "      width: 32px;\n",
              "    }\n",
              "\n",
              "    .colab-df-convert:hover {\n",
              "      background-color: #E2EBFA;\n",
              "      box-shadow: 0px 1px 2px rgba(60, 64, 67, 0.3), 0px 1px 3px 1px rgba(60, 64, 67, 0.15);\n",
              "      fill: #174EA6;\n",
              "    }\n",
              "\n",
              "    [theme=dark] .colab-df-convert {\n",
              "      background-color: #3B4455;\n",
              "      fill: #D2E3FC;\n",
              "    }\n",
              "\n",
              "    [theme=dark] .colab-df-convert:hover {\n",
              "      background-color: #434B5C;\n",
              "      box-shadow: 0px 1px 3px 1px rgba(0, 0, 0, 0.15);\n",
              "      filter: drop-shadow(0px 1px 2px rgba(0, 0, 0, 0.3));\n",
              "      fill: #FFFFFF;\n",
              "    }\n",
              "  </style>\n",
              "\n",
              "      <script>\n",
              "        const buttonEl =\n",
              "          document.querySelector('#df-c5692fda-20d6-4711-9735-0ab9766759e8 button.colab-df-convert');\n",
              "        buttonEl.style.display =\n",
              "          google.colab.kernel.accessAllowed ? 'block' : 'none';\n",
              "\n",
              "        async function convertToInteractive(key) {\n",
              "          const element = document.querySelector('#df-c5692fda-20d6-4711-9735-0ab9766759e8');\n",
              "          const dataTable =\n",
              "            await google.colab.kernel.invokeFunction('convertToInteractive',\n",
              "                                                     [key], {});\n",
              "          if (!dataTable) return;\n",
              "\n",
              "          const docLinkHtml = 'Like what you see? Visit the ' +\n",
              "            '<a target=\"_blank\" href=https://colab.research.google.com/notebooks/data_table.ipynb>data table notebook</a>'\n",
              "            + ' to learn more about interactive tables.';\n",
              "          element.innerHTML = '';\n",
              "          dataTable['output_type'] = 'display_data';\n",
              "          await google.colab.output.renderOutput(dataTable, element);\n",
              "          const docLink = document.createElement('div');\n",
              "          docLink.innerHTML = docLinkHtml;\n",
              "          element.appendChild(docLink);\n",
              "        }\n",
              "      </script>\n",
              "    </div>\n",
              "  </div>\n",
              "  "
            ]
          },
          "metadata": {},
          "execution_count": 4
        }
      ]
    },
    {
      "cell_type": "markdown",
      "source": [
        "#Data Cleaning"
      ],
      "metadata": {
        "id": "39ItAg_oWeRi"
      }
    },
    {
      "cell_type": "code",
      "source": [
        "# Checking how many null values in columns\n",
        "print(TeamPayroll_df.isnull().sum())\n",
        "print(AthleteSalary_df.isnull().sum()) # no null values"
      ],
      "metadata": {
        "id": "QClxSVDjWdni",
        "colab": {
          "base_uri": "https://localhost:8080/"
        },
        "outputId": "0a3598c7-a857-4ca9-fbe9-4e7f9612dceb"
      },
      "execution_count": 5,
      "outputs": [
        {
          "output_type": "stream",
          "name": "stdout",
          "text": [
            "Rank                                 0\n",
            "Last Year's Rank                     0\n",
            "Team, League                         0\n",
            "Average Annual pay per player        0\n",
            "% change from last year's survey    28\n",
            "Total Payroll                        0\n",
            "Rank of Total Payroll                0\n",
            "Average player 5 year earnings      96\n",
            "% change over last 5 years          97\n",
            "dtype: int64\n",
            "Athlete            0\n",
            "2014 Pay           0\n",
            "Salary/Winnings    0\n",
            "Endorsements       0\n",
            "Sport              0\n",
            "dtype: int64\n"
          ]
        }
      ]
    },
    {
      "cell_type": "code",
      "source": [
        "# Interpolating Missing/Null Values in Sheet1\n",
        "TeamPayroll_df = TeamPayroll_df.interpolate()"
      ],
      "metadata": {
        "id": "ZFI8T74gXuY_"
      },
      "execution_count": 6,
      "outputs": []
    },
    {
      "cell_type": "code",
      "source": [
        "# verify data cleaning\n",
        "TeamPayroll_df.isnull().sum()"
      ],
      "metadata": {
        "id": "2EyYHa8XXKro",
        "colab": {
          "base_uri": "https://localhost:8080/"
        },
        "outputId": "c9c33475-c566-4722-8d48-1ed6d0a9451a"
      },
      "execution_count": 7,
      "outputs": [
        {
          "output_type": "execute_result",
          "data": {
            "text/plain": [
              "Rank                                0\n",
              "Last Year's Rank                    0\n",
              "Team, League                        0\n",
              "Average Annual pay per player       0\n",
              "% change from last year's survey    0\n",
              "Total Payroll                       0\n",
              "Rank of Total Payroll               0\n",
              "Average player 5 year earnings      0\n",
              "% change over last 5 years          0\n",
              "dtype: int64"
            ]
          },
          "metadata": {},
          "execution_count": 7
        }
      ]
    },
    {
      "cell_type": "markdown",
      "source": [
        "#Descriptive Analysis of the Datasets ( Count, min, max, standard deviation, 75%,50%and 25%)\n"
      ],
      "metadata": {
        "id": "4zMh3v2tcyfM"
      }
    },
    {
      "cell_type": "code",
      "source": [
        "TeamPayroll_df.describe() #descriptive analysis of sheet 1"
      ],
      "metadata": {
        "id": "a5hZq_H7fdjd",
        "colab": {
          "base_uri": "https://localhost:8080/",
          "height": 344
        },
        "outputId": "1336072f-6f41-45bd-c655-66c319161124"
      },
      "execution_count": 8,
      "outputs": [
        {
          "output_type": "execute_result",
          "data": {
            "text/plain": [
              "             Rank  Average Annual pay per player  \\\n",
              "count  294.000000                   2.940000e+02   \n",
              "mean   147.500000                   2.149082e+06   \n",
              "std     85.014705                   1.813923e+06   \n",
              "min      1.000000                   4.235300e+04   \n",
              "25%     74.250000                   5.106428e+05   \n",
              "50%    147.500000                   2.004924e+06   \n",
              "75%    220.750000                   3.052888e+06   \n",
              "max    294.000000                   8.109912e+06   \n",
              "\n",
              "       % change from last year's survey  Total Payroll  Rank of Total Payroll  \\\n",
              "count                        294.000000   2.940000e+02             294.000000   \n",
              "mean                           3.205612   5.492969e+07             147.500000   \n",
              "std                           26.106650   4.651013e+07              85.014705   \n",
              "min                          -52.400000   1.440000e+06               1.000000   \n",
              "25%                           -9.075000   1.152625e+07              74.250000   \n",
              "50%                            1.725000   5.324125e+07             147.500000   \n",
              "75%                            9.675000   8.187199e+07             220.750000   \n",
              "max                          256.400000   2.411284e+08             294.000000   \n",
              "\n",
              "       Average player 5 year earnings  % change over last 5 years  \n",
              "count                    2.940000e+02                  294.000000  \n",
              "mean                     1.040698e+07                   29.275510  \n",
              "std                      8.277876e+06                   62.244675  \n",
              "min                      2.895880e+05                  -61.000000  \n",
              "25%                      2.872610e+06                   -5.000000  \n",
              "50%                      1.031911e+07                   12.588235  \n",
              "75%                      1.492551e+07                   36.000000  \n",
              "max                      3.797560e+07                  363.000000  "
            ],
            "text/html": [
              "\n",
              "  <div id=\"df-b46f8c93-127f-43e9-81a9-10bfefbdf639\">\n",
              "    <div class=\"colab-df-container\">\n",
              "      <div>\n",
              "<style scoped>\n",
              "    .dataframe tbody tr th:only-of-type {\n",
              "        vertical-align: middle;\n",
              "    }\n",
              "\n",
              "    .dataframe tbody tr th {\n",
              "        vertical-align: top;\n",
              "    }\n",
              "\n",
              "    .dataframe thead th {\n",
              "        text-align: right;\n",
              "    }\n",
              "</style>\n",
              "<table border=\"1\" class=\"dataframe\">\n",
              "  <thead>\n",
              "    <tr style=\"text-align: right;\">\n",
              "      <th></th>\n",
              "      <th>Rank</th>\n",
              "      <th>Average Annual pay per player</th>\n",
              "      <th>% change from last year's survey</th>\n",
              "      <th>Total Payroll</th>\n",
              "      <th>Rank of Total Payroll</th>\n",
              "      <th>Average player 5 year earnings</th>\n",
              "      <th>% change over last 5 years</th>\n",
              "    </tr>\n",
              "  </thead>\n",
              "  <tbody>\n",
              "    <tr>\n",
              "      <th>count</th>\n",
              "      <td>294.000000</td>\n",
              "      <td>2.940000e+02</td>\n",
              "      <td>294.000000</td>\n",
              "      <td>2.940000e+02</td>\n",
              "      <td>294.000000</td>\n",
              "      <td>2.940000e+02</td>\n",
              "      <td>294.000000</td>\n",
              "    </tr>\n",
              "    <tr>\n",
              "      <th>mean</th>\n",
              "      <td>147.500000</td>\n",
              "      <td>2.149082e+06</td>\n",
              "      <td>3.205612</td>\n",
              "      <td>5.492969e+07</td>\n",
              "      <td>147.500000</td>\n",
              "      <td>1.040698e+07</td>\n",
              "      <td>29.275510</td>\n",
              "    </tr>\n",
              "    <tr>\n",
              "      <th>std</th>\n",
              "      <td>85.014705</td>\n",
              "      <td>1.813923e+06</td>\n",
              "      <td>26.106650</td>\n",
              "      <td>4.651013e+07</td>\n",
              "      <td>85.014705</td>\n",
              "      <td>8.277876e+06</td>\n",
              "      <td>62.244675</td>\n",
              "    </tr>\n",
              "    <tr>\n",
              "      <th>min</th>\n",
              "      <td>1.000000</td>\n",
              "      <td>4.235300e+04</td>\n",
              "      <td>-52.400000</td>\n",
              "      <td>1.440000e+06</td>\n",
              "      <td>1.000000</td>\n",
              "      <td>2.895880e+05</td>\n",
              "      <td>-61.000000</td>\n",
              "    </tr>\n",
              "    <tr>\n",
              "      <th>25%</th>\n",
              "      <td>74.250000</td>\n",
              "      <td>5.106428e+05</td>\n",
              "      <td>-9.075000</td>\n",
              "      <td>1.152625e+07</td>\n",
              "      <td>74.250000</td>\n",
              "      <td>2.872610e+06</td>\n",
              "      <td>-5.000000</td>\n",
              "    </tr>\n",
              "    <tr>\n",
              "      <th>50%</th>\n",
              "      <td>147.500000</td>\n",
              "      <td>2.004924e+06</td>\n",
              "      <td>1.725000</td>\n",
              "      <td>5.324125e+07</td>\n",
              "      <td>147.500000</td>\n",
              "      <td>1.031911e+07</td>\n",
              "      <td>12.588235</td>\n",
              "    </tr>\n",
              "    <tr>\n",
              "      <th>75%</th>\n",
              "      <td>220.750000</td>\n",
              "      <td>3.052888e+06</td>\n",
              "      <td>9.675000</td>\n",
              "      <td>8.187199e+07</td>\n",
              "      <td>220.750000</td>\n",
              "      <td>1.492551e+07</td>\n",
              "      <td>36.000000</td>\n",
              "    </tr>\n",
              "    <tr>\n",
              "      <th>max</th>\n",
              "      <td>294.000000</td>\n",
              "      <td>8.109912e+06</td>\n",
              "      <td>256.400000</td>\n",
              "      <td>2.411284e+08</td>\n",
              "      <td>294.000000</td>\n",
              "      <td>3.797560e+07</td>\n",
              "      <td>363.000000</td>\n",
              "    </tr>\n",
              "  </tbody>\n",
              "</table>\n",
              "</div>\n",
              "      <button class=\"colab-df-convert\" onclick=\"convertToInteractive('df-b46f8c93-127f-43e9-81a9-10bfefbdf639')\"\n",
              "              title=\"Convert this dataframe to an interactive table.\"\n",
              "              style=\"display:none;\">\n",
              "        \n",
              "  <svg xmlns=\"http://www.w3.org/2000/svg\" height=\"24px\"viewBox=\"0 0 24 24\"\n",
              "       width=\"24px\">\n",
              "    <path d=\"M0 0h24v24H0V0z\" fill=\"none\"/>\n",
              "    <path d=\"M18.56 5.44l.94 2.06.94-2.06 2.06-.94-2.06-.94-.94-2.06-.94 2.06-2.06.94zm-11 1L8.5 8.5l.94-2.06 2.06-.94-2.06-.94L8.5 2.5l-.94 2.06-2.06.94zm10 10l.94 2.06.94-2.06 2.06-.94-2.06-.94-.94-2.06-.94 2.06-2.06.94z\"/><path d=\"M17.41 7.96l-1.37-1.37c-.4-.4-.92-.59-1.43-.59-.52 0-1.04.2-1.43.59L10.3 9.45l-7.72 7.72c-.78.78-.78 2.05 0 2.83L4 21.41c.39.39.9.59 1.41.59.51 0 1.02-.2 1.41-.59l7.78-7.78 2.81-2.81c.8-.78.8-2.07 0-2.86zM5.41 20L4 18.59l7.72-7.72 1.47 1.35L5.41 20z\"/>\n",
              "  </svg>\n",
              "      </button>\n",
              "      \n",
              "  <style>\n",
              "    .colab-df-container {\n",
              "      display:flex;\n",
              "      flex-wrap:wrap;\n",
              "      gap: 12px;\n",
              "    }\n",
              "\n",
              "    .colab-df-convert {\n",
              "      background-color: #E8F0FE;\n",
              "      border: none;\n",
              "      border-radius: 50%;\n",
              "      cursor: pointer;\n",
              "      display: none;\n",
              "      fill: #1967D2;\n",
              "      height: 32px;\n",
              "      padding: 0 0 0 0;\n",
              "      width: 32px;\n",
              "    }\n",
              "\n",
              "    .colab-df-convert:hover {\n",
              "      background-color: #E2EBFA;\n",
              "      box-shadow: 0px 1px 2px rgba(60, 64, 67, 0.3), 0px 1px 3px 1px rgba(60, 64, 67, 0.15);\n",
              "      fill: #174EA6;\n",
              "    }\n",
              "\n",
              "    [theme=dark] .colab-df-convert {\n",
              "      background-color: #3B4455;\n",
              "      fill: #D2E3FC;\n",
              "    }\n",
              "\n",
              "    [theme=dark] .colab-df-convert:hover {\n",
              "      background-color: #434B5C;\n",
              "      box-shadow: 0px 1px 3px 1px rgba(0, 0, 0, 0.15);\n",
              "      filter: drop-shadow(0px 1px 2px rgba(0, 0, 0, 0.3));\n",
              "      fill: #FFFFFF;\n",
              "    }\n",
              "  </style>\n",
              "\n",
              "      <script>\n",
              "        const buttonEl =\n",
              "          document.querySelector('#df-b46f8c93-127f-43e9-81a9-10bfefbdf639 button.colab-df-convert');\n",
              "        buttonEl.style.display =\n",
              "          google.colab.kernel.accessAllowed ? 'block' : 'none';\n",
              "\n",
              "        async function convertToInteractive(key) {\n",
              "          const element = document.querySelector('#df-b46f8c93-127f-43e9-81a9-10bfefbdf639');\n",
              "          const dataTable =\n",
              "            await google.colab.kernel.invokeFunction('convertToInteractive',\n",
              "                                                     [key], {});\n",
              "          if (!dataTable) return;\n",
              "\n",
              "          const docLinkHtml = 'Like what you see? Visit the ' +\n",
              "            '<a target=\"_blank\" href=https://colab.research.google.com/notebooks/data_table.ipynb>data table notebook</a>'\n",
              "            + ' to learn more about interactive tables.';\n",
              "          element.innerHTML = '';\n",
              "          dataTable['output_type'] = 'display_data';\n",
              "          await google.colab.output.renderOutput(dataTable, element);\n",
              "          const docLink = document.createElement('div');\n",
              "          docLink.innerHTML = docLinkHtml;\n",
              "          element.appendChild(docLink);\n",
              "        }\n",
              "      </script>\n",
              "    </div>\n",
              "  </div>\n",
              "  "
            ]
          },
          "metadata": {},
          "execution_count": 8
        }
      ]
    },
    {
      "cell_type": "code",
      "source": [
        "AthleteSalary_df.describe() #descriptive analysis of sheet 2"
      ],
      "metadata": {
        "id": "TgGHGRI3dhvT",
        "colab": {
          "base_uri": "https://localhost:8080/",
          "height": 175
        },
        "outputId": "d2301223-eb1b-4403-bfe4-49ab8dd0fdac"
      },
      "execution_count": 9,
      "outputs": [
        {
          "output_type": "execute_result",
          "data": {
            "text/plain": [
              "                 Athlete 2014 Pay Salary/Winnings Endorsements     Sport\n",
              "count                100      100             100          100       100\n",
              "unique               100       82              75           48        10\n",
              "top     Floyd Mayweather  $20.7 M           $18 M       $200 K  Baseball\n",
              "freq                   1        3               4            7        27"
            ],
            "text/html": [
              "\n",
              "  <div id=\"df-a78d7c5f-8fba-4c44-addb-5c60a9f6338c\">\n",
              "    <div class=\"colab-df-container\">\n",
              "      <div>\n",
              "<style scoped>\n",
              "    .dataframe tbody tr th:only-of-type {\n",
              "        vertical-align: middle;\n",
              "    }\n",
              "\n",
              "    .dataframe tbody tr th {\n",
              "        vertical-align: top;\n",
              "    }\n",
              "\n",
              "    .dataframe thead th {\n",
              "        text-align: right;\n",
              "    }\n",
              "</style>\n",
              "<table border=\"1\" class=\"dataframe\">\n",
              "  <thead>\n",
              "    <tr style=\"text-align: right;\">\n",
              "      <th></th>\n",
              "      <th>Athlete</th>\n",
              "      <th>2014 Pay</th>\n",
              "      <th>Salary/Winnings</th>\n",
              "      <th>Endorsements</th>\n",
              "      <th>Sport</th>\n",
              "    </tr>\n",
              "  </thead>\n",
              "  <tbody>\n",
              "    <tr>\n",
              "      <th>count</th>\n",
              "      <td>100</td>\n",
              "      <td>100</td>\n",
              "      <td>100</td>\n",
              "      <td>100</td>\n",
              "      <td>100</td>\n",
              "    </tr>\n",
              "    <tr>\n",
              "      <th>unique</th>\n",
              "      <td>100</td>\n",
              "      <td>82</td>\n",
              "      <td>75</td>\n",
              "      <td>48</td>\n",
              "      <td>10</td>\n",
              "    </tr>\n",
              "    <tr>\n",
              "      <th>top</th>\n",
              "      <td>Floyd Mayweather</td>\n",
              "      <td>$20.7 M</td>\n",
              "      <td>$18 M</td>\n",
              "      <td>$200 K</td>\n",
              "      <td>Baseball</td>\n",
              "    </tr>\n",
              "    <tr>\n",
              "      <th>freq</th>\n",
              "      <td>1</td>\n",
              "      <td>3</td>\n",
              "      <td>4</td>\n",
              "      <td>7</td>\n",
              "      <td>27</td>\n",
              "    </tr>\n",
              "  </tbody>\n",
              "</table>\n",
              "</div>\n",
              "      <button class=\"colab-df-convert\" onclick=\"convertToInteractive('df-a78d7c5f-8fba-4c44-addb-5c60a9f6338c')\"\n",
              "              title=\"Convert this dataframe to an interactive table.\"\n",
              "              style=\"display:none;\">\n",
              "        \n",
              "  <svg xmlns=\"http://www.w3.org/2000/svg\" height=\"24px\"viewBox=\"0 0 24 24\"\n",
              "       width=\"24px\">\n",
              "    <path d=\"M0 0h24v24H0V0z\" fill=\"none\"/>\n",
              "    <path d=\"M18.56 5.44l.94 2.06.94-2.06 2.06-.94-2.06-.94-.94-2.06-.94 2.06-2.06.94zm-11 1L8.5 8.5l.94-2.06 2.06-.94-2.06-.94L8.5 2.5l-.94 2.06-2.06.94zm10 10l.94 2.06.94-2.06 2.06-.94-2.06-.94-.94-2.06-.94 2.06-2.06.94z\"/><path d=\"M17.41 7.96l-1.37-1.37c-.4-.4-.92-.59-1.43-.59-.52 0-1.04.2-1.43.59L10.3 9.45l-7.72 7.72c-.78.78-.78 2.05 0 2.83L4 21.41c.39.39.9.59 1.41.59.51 0 1.02-.2 1.41-.59l7.78-7.78 2.81-2.81c.8-.78.8-2.07 0-2.86zM5.41 20L4 18.59l7.72-7.72 1.47 1.35L5.41 20z\"/>\n",
              "  </svg>\n",
              "      </button>\n",
              "      \n",
              "  <style>\n",
              "    .colab-df-container {\n",
              "      display:flex;\n",
              "      flex-wrap:wrap;\n",
              "      gap: 12px;\n",
              "    }\n",
              "\n",
              "    .colab-df-convert {\n",
              "      background-color: #E8F0FE;\n",
              "      border: none;\n",
              "      border-radius: 50%;\n",
              "      cursor: pointer;\n",
              "      display: none;\n",
              "      fill: #1967D2;\n",
              "      height: 32px;\n",
              "      padding: 0 0 0 0;\n",
              "      width: 32px;\n",
              "    }\n",
              "\n",
              "    .colab-df-convert:hover {\n",
              "      background-color: #E2EBFA;\n",
              "      box-shadow: 0px 1px 2px rgba(60, 64, 67, 0.3), 0px 1px 3px 1px rgba(60, 64, 67, 0.15);\n",
              "      fill: #174EA6;\n",
              "    }\n",
              "\n",
              "    [theme=dark] .colab-df-convert {\n",
              "      background-color: #3B4455;\n",
              "      fill: #D2E3FC;\n",
              "    }\n",
              "\n",
              "    [theme=dark] .colab-df-convert:hover {\n",
              "      background-color: #434B5C;\n",
              "      box-shadow: 0px 1px 3px 1px rgba(0, 0, 0, 0.15);\n",
              "      filter: drop-shadow(0px 1px 2px rgba(0, 0, 0, 0.3));\n",
              "      fill: #FFFFFF;\n",
              "    }\n",
              "  </style>\n",
              "\n",
              "      <script>\n",
              "        const buttonEl =\n",
              "          document.querySelector('#df-a78d7c5f-8fba-4c44-addb-5c60a9f6338c button.colab-df-convert');\n",
              "        buttonEl.style.display =\n",
              "          google.colab.kernel.accessAllowed ? 'block' : 'none';\n",
              "\n",
              "        async function convertToInteractive(key) {\n",
              "          const element = document.querySelector('#df-a78d7c5f-8fba-4c44-addb-5c60a9f6338c');\n",
              "          const dataTable =\n",
              "            await google.colab.kernel.invokeFunction('convertToInteractive',\n",
              "                                                     [key], {});\n",
              "          if (!dataTable) return;\n",
              "\n",
              "          const docLinkHtml = 'Like what you see? Visit the ' +\n",
              "            '<a target=\"_blank\" href=https://colab.research.google.com/notebooks/data_table.ipynb>data table notebook</a>'\n",
              "            + ' to learn more about interactive tables.';\n",
              "          element.innerHTML = '';\n",
              "          dataTable['output_type'] = 'display_data';\n",
              "          await google.colab.output.renderOutput(dataTable, element);\n",
              "          const docLink = document.createElement('div');\n",
              "          docLink.innerHTML = docLinkHtml;\n",
              "          element.appendChild(docLink);\n",
              "        }\n",
              "      </script>\n",
              "    </div>\n",
              "  </div>\n",
              "  "
            ]
          },
          "metadata": {},
          "execution_count": 9
        }
      ]
    },
    {
      "cell_type": "markdown",
      "source": [
        "#Scatter Plot"
      ],
      "metadata": {
        "id": "T5yGRmYrgxAh"
      }
    },
    {
      "cell_type": "code",
      "source": [
        "TeamPayroll_df.keys() # getting the columns of the dataset"
      ],
      "metadata": {
        "colab": {
          "base_uri": "https://localhost:8080/"
        },
        "id": "3VsaUv-p-NjI",
        "outputId": "012bb313-9d45-4e9a-b16b-93dff1be94f0"
      },
      "execution_count": 10,
      "outputs": [
        {
          "output_type": "execute_result",
          "data": {
            "text/plain": [
              "Index(['Rank', 'Last Year's Rank', 'Team, League',\n",
              "       'Average Annual pay per player', '% change from last year's survey',\n",
              "       'Total Payroll', 'Rank of Total Payroll',\n",
              "       'Average player 5 year earnings', '% change over last 5 years'],\n",
              "      dtype='object')"
            ]
          },
          "metadata": {},
          "execution_count": 10
        }
      ]
    },
    {
      "cell_type": "code",
      "source": [
        "# plotting a heatmap to get correlation within columns of the dataset\n",
        "# this is to get a correlated x and y variable before scatter plotting\n",
        "heatmap = sns.heatmap(TeamPayroll_df.corr(), cmap=\"YlGnBu\", annot=True)"
      ],
      "metadata": {
        "colab": {
          "base_uri": "https://localhost:8080/",
          "height": 426
        },
        "id": "EnyhySFV-Nfe",
        "outputId": "aeb55a95-dd67-46e0-94b6-73145cb2c7b9"
      },
      "execution_count": 11,
      "outputs": [
        {
          "output_type": "display_data",
          "data": {
            "text/plain": [
              "<Figure size 432x288 with 2 Axes>"
            ],
            "image/png": "[encoded data removed]"
          },
          "metadata": {
            "needs_background": "light"
          }
        }
      ]
    },
    {
      "cell_type": "code",
      "source": [
        "X = TeamPayroll_df['Rank']\n",
        "Y = TeamPayroll_df['Rank of Total Payroll']\n",
        "plt.title(' ')\n",
        "plt.xlabel('Rank')\n",
        "plt.ylabel('Rank of Total Payroll')\n",
        "plt.scatter(X, Y)\n",
        "plt.show()"
      ],
      "metadata": {
        "colab": {
          "base_uri": "https://localhost:8080/",
          "height": 295
        },
        "id": "29lpdh0L-NdJ",
        "outputId": "8e9ec4a0-d657-441e-d9b3-ef2c74543d11"
      },
      "execution_count": 12,
      "outputs": [
        {
          "output_type": "display_data",
          "data": {
            "text/plain": [
              "<Figure size 432x288 with 1 Axes>"
            ],
            "image/png": "[encoded data removed]"
          },
          "metadata": {
            "needs_background": "light"
          }
        }
      ]
    },
    {
      "cell_type": "markdown",
      "source": [
        "#Regression Line and Regression Coefficient"
      ],
      "metadata": {
        "id": "6-emxJ-R_8lw"
      }
    },
    {
      "cell_type": "code",
      "source": [
        "y = Y.values.reshape(-1, 1)\n",
        "X = X.values.reshape(-1, 1)"
      ],
      "metadata": {
        "id": "uUn7tMUHCtBc"
      },
      "execution_count": 13,
      "outputs": []
    },
    {
      "cell_type": "code",
      "source": [
        "linear_regressor = LinearRegression()  # create object for the class\n",
        "linear_regressor.fit(X, Y)  # perform linear regression\n",
        "Y_pred = linear_regressor.predict(X)  # make predictions"
      ],
      "metadata": {
        "id": "MWXxpt-xFXrv"
      },
      "execution_count": 14,
      "outputs": []
    },
    {
      "cell_type": "code",
      "source": [
        "plt.scatter(X, Y)\n",
        "plt.plot(X, Y_pred, color='red')\n",
        "plt.show()"
      ],
      "metadata": {
        "colab": {
          "base_uri": "https://localhost:8080/",
          "height": 265
        },
        "id": "LGOtm9SQFXpl",
        "outputId": "d9663646-37cb-4146-9cbf-1b4892b4d036"
      },
      "execution_count": 15,
      "outputs": [
        {
          "output_type": "display_data",
          "data": {
            "text/plain": [
              "<Figure size 432x288 with 1 Axes>"
            ],
            "image/png": "[encoded data removed]"
          },
          "metadata": {
            "needs_background": "light"
          }
        }
      ]
    },
    {
      "cell_type": "code",
      "source": [
        "# https://stackabuse.com/linear-regression-in-python-with-scikit-learn/\n",
        "from sklearn.model_selection import train_test_split\n",
        "X_train, X_test, y_train, y_test = train_test_split(X, y, test_size = 0.2)"
      ],
      "metadata": {
        "id": "17Eye8InF2CH"
      },
      "execution_count": 16,
      "outputs": []
    },
    {
      "cell_type": "code",
      "source": [
        "SEED = 69\n",
        "X_train, X_test, y_train, y_test = train_test_split(X, y, test_size = 0.2, random_state = SEED)"
      ],
      "metadata": {
        "id": "9Jp1g9tEKt9w"
      },
      "execution_count": 17,
      "outputs": []
    },
    {
      "cell_type": "code",
      "source": [
        "from sklearn.linear_model import LinearRegression\n",
        "regressor = LinearRegression()"
      ],
      "metadata": {
        "id": "ZKVE1yh3K0EO"
      },
      "execution_count": 20,
      "outputs": []
    },
    {
      "cell_type": "code",
      "source": [
        "regressor.fit(X_train, y_train)"
      ],
      "metadata": {
        "colab": {
          "base_uri": "https://localhost:8080/"
        },
        "id": "f2LgThjfK1Ey",
        "outputId": "53c168c1-c942-4360-e65f-5bb76574503b"
      },
      "execution_count": 21,
      "outputs": [
        {
          "output_type": "execute_result",
          "data": {
            "text/plain": [
              "LinearRegression()"
            ]
          },
          "metadata": {},
          "execution_count": 21
        }
      ]
    },
    {
      "cell_type": "code",
      "source": [
        "print(regressor.intercept_)"
      ],
      "metadata": {
        "colab": {
          "base_uri": "https://localhost:8080/"
        },
        "id": "_mi-MJj8K164",
        "outputId": "8ba3ea58-aa3e-419b-bfe7-3473ffe402d1"
      },
      "execution_count": 22,
      "outputs": [
        {
          "output_type": "stream",
          "name": "stdout",
          "text": [
            "[30.02814544]\n"
          ]
        }
      ]
    },
    {
      "cell_type": "code",
      "source": [
        "print(regressor.coef_)"
      ],
      "metadata": {
        "colab": {
          "base_uri": "https://localhost:8080/"
        },
        "id": "edVUsBj6K3pX",
        "outputId": "20a69f9d-43c9-4a30-db6c-876eff623b91"
      },
      "execution_count": 23,
      "outputs": [
        {
          "output_type": "stream",
          "name": "stdout",
          "text": [
            "[[0.81100668]]\n"
          ]
        }
      ]
    },
    {
      "cell_type": "markdown",
      "source": [
        "# Predict Future Values"
      ],
      "metadata": {
        "id": "GWGXrI3fLAQd"
      }
    },
    {
      "cell_type": "code",
      "source": [
        "score = regressor.predict([[9.5]])\n",
        "print(score) "
      ],
      "metadata": {
        "colab": {
          "base_uri": "https://localhost:8080/"
        },
        "id": "b9YTo_YkLGLi",
        "outputId": "79163898-ddb9-4257-f17c-624fa2e69906"
      },
      "execution_count": 25,
      "outputs": [
        {
          "output_type": "stream",
          "name": "stdout",
          "text": [
            "[[37.73270892]]\n"
          ]
        }
      ]
    },
    {
      "cell_type": "code",
      "source": [
        "y_pred = regressor.predict(X_test)"
      ],
      "metadata": {
        "id": "mFfXYRbPLHZp"
      },
      "execution_count": 26,
      "outputs": []
    },
    {
      "cell_type": "code",
      "source": [
        "df_preds = pd.DataFrame({'Actual': y_test.squeeze(), 'Predicted': y_pred.squeeze()})\n",
        "print(df_preds)"
      ],
      "metadata": {
        "colab": {
          "base_uri": "https://localhost:8080/"
        },
        "id": "qTMUkx6nLIVy",
        "outputId": "aa666b78-fc66-4ffa-ca8e-6de3b077ebc4"
      },
      "execution_count": 27,
      "outputs": [
        {
          "output_type": "stream",
          "name": "stdout",
          "text": [
            "    Actual   Predicted\n",
            "0      161  160.600221\n",
            "1      206  203.583575\n",
            "2      178  180.875388\n",
            "3      216  211.693642\n",
            "4      278  259.543036\n",
            "5      140   77.877540\n",
            "6       18   55.169353\n",
            "7       72   43.004252\n",
            "8       30  138.703041\n",
            "9      173  182.497402\n",
            "10     267  261.976056\n",
            "11     164  164.655255\n",
            "12     202  200.339549\n",
            "13     245  232.779816\n",
            "14      68  107.884787\n",
            "15     266  261.165050\n",
            "16     209  205.205589\n",
            "17     148  133.025994\n",
            "18      67   39.760226\n",
            "19      64  170.332301\n",
            "20     190  193.851495\n",
            "21     105   96.530693\n",
            "22     198  194.662502\n",
            "23     165  165.466261\n",
            "24      58  158.978208\n",
            "25       7   35.705192\n",
            "26      26  131.403981\n",
            "27     293  267.653103\n",
            "28     248  218.181696\n",
            "29       4   34.083179\n",
            "30     238  227.102769\n",
            "31     228  221.425722\n",
            "32     100  101.396733\n",
            "33       1   32.461165\n",
            "34     199  198.717535\n",
            "35      43  150.057134\n",
            "36     119  111.939820\n",
            "37     285  250.621963\n",
            "38      61  162.222235\n",
            "39     163  163.844248\n",
            "40      94   57.602373\n",
            "41      66   89.231633\n",
            "42      77   93.286667\n",
            "43     121  112.750827\n",
            "44      41  147.624114\n",
            "45     120   60.035393\n",
            "46      73   90.042640\n",
            "47     183  187.363442\n",
            "48     252  237.645856\n",
            "49     247  236.023843\n",
            "50     261  236.834849\n",
            "51     108  100.585727\n",
            "52      25  128.159954\n",
            "53     150  140.325054\n",
            "54     159  171.143308\n",
            "55     132  126.537941\n",
            "56     215  210.882635\n",
            "57     171  173.576328\n",
            "58      15   38.949219\n"
          ]
        }
      ]
    },
    {
      "cell_type": "markdown",
      "source": [
        "# Is linear regression the appropriate method to use to predict future values? Why?"
      ],
      "metadata": {
        "id": "PQtlI9CXStGO"
      }
    },
    {
      "cell_type": "markdown",
      "source": [
        "Yes, linear regression gives the strength of relationship between variables and creates a fitting which could be used to predict future outputs from the given data. "
      ],
      "metadata": {
        "id": "8qIOR3eqcmpL"
      }
    }
  ]
}