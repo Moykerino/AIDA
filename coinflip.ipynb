{
  "nbformat": 4,
  "nbformat_minor": 0,
  "metadata": {
    "colab": {
      "provenance": [],
      "collapsed_sections": [],
      "authorship_tag": "ABX9TyPbXXB1d/cXfhmZr/tbcFp2",
      "include_colab_link": true
    },
    "kernelspec": {
      "name": "python3",
      "display_name": "Python 3"
    },
    "language_info": {
      "name": "python"
    }
  },
  "cells": [
    {
      "cell_type": "markdown",
      "metadata": {
        "id": "view-in-github",
        "colab_type": "text"
      },
      "source": [
        "<a href=\"https://colab.research.google.com/github/Moykerino/AIDA/blob/main/coinflip.ipynb\" target=\"_parent\"><img src=\"https://colab.research.google.com/assets/colab-badge.svg\" alt=\"Open In Colab\"/></a>"
      ]
    },
    {
      "cell_type": "code",
      "source": [
        "import numpy as np"
      ],
      "metadata": {
        "id": "LV3E4JndgqwS"
      },
      "execution_count": 1,
      "outputs": []
    },
    {
      "cell_type": "code",
      "execution_count": 8,
      "metadata": {
        "colab": {
          "base_uri": "https://localhost:8080/"
        },
        "id": "e2DENwBogixm",
        "outputId": "8a1e1beb-ceb0-4a7e-c019-567b948c658e"
      },
      "outputs": [
        {
          "name": "stdout",
          "output_type": "stream",
          "text": [
            "How many flips?:3\n"
          ]
        },
        {
          "output_type": "execute_result",
          "data": {
            "text/plain": [
              "['Heads', 'Tails', 'Heads']"
            ]
          },
          "metadata": {},
          "execution_count": 8
        }
      ],
      "source": [
        "def coinflip(n):\n",
        "  flips = []\n",
        "  for i in range(n):\n",
        "      coin_toss = np.random.randint(2)      \n",
        "      if coin_toss == 0:\n",
        "          flips.append(\"Heads\")\n",
        "      elif coin_toss == 1:  \n",
        "          flips.append(\"Tails\")  \n",
        "  return flips\n",
        "\n",
        "coinflip(int(input(\"How many flips?: \")))\n",
        "\n"
      ]
    }
  ]
}